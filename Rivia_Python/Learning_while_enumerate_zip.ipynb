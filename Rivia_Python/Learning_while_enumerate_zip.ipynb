{
 "cells": [
  {
   "cell_type": "code",
   "execution_count": 1,
   "metadata": {},
   "outputs": [
    {
     "name": "stdout",
     "output_type": "stream",
     "text": [
      "HELLO WORLD!\n",
      "0 1 2 Please choose an option for the list below:\n",
      "Press 1 for selection 1\n",
      "Press 2 for selection 2\n",
      "Pres 3 to quit\n",
      "Enter your choice -> 1\n",
      "Please choose an option for the list below:\n",
      "Press 1 for selection 1\n",
      "Press 2 for selection 2\n",
      "Pres 3 to quit\n",
      "Enter your choice -> 2\n",
      "Please choose an option for the list below:\n",
      "Press 1 for selection 1\n",
      "Press 2 for selection 2\n",
      "Pres 3 to quit\n",
      "Enter your choice -> 3\n",
      "\n",
      "Index: 0\t Number: 91\n",
      "Index: 1\t Number: 97\n",
      "Index: 2\t Number: 96\n",
      "Index: 3\t Number: 2\n",
      "Index: 4\t Number: 27\n",
      "Index: 5\t Number: 99\n",
      "Index: 6\t Number: 70\n",
      "Index: 7\t Number: 83\n",
      "Index: 8\t Number: 80\n",
      "Index: 9\t Number: 74\n",
      "\n",
      "[('python', '.py'), ('javascript', '.js'), ('ruby', '.rb'), ('java', '.java'), ('c', '.c'), ('cpp', '.cpp')]\n"
     ]
    }
   ],
   "source": [
    "# while loops (used when you do not know how long you need to loop)\n",
    "truth_condition = True\n",
    "\n",
    "while truth_condition:\n",
    "    print('HELLO', end=' ')\n",
    "    break\n",
    "\n",
    "while True:\n",
    "    print('WORLD!')\n",
    "    break\n",
    "    \n",
    "i = 0\n",
    "while i < 5:\n",
    "    print(i, end=' ')\n",
    "    i += 1\n",
    "    if i == 3:\n",
    "        break\n",
    "\n",
    "# using while loop for simple menu\n",
    "while True:\n",
    "    print(\"Please choose an option for the list below:\")\n",
    "    print(\"Press 1 for selection 1\")\n",
    "    print(\"Press 2 for selection 2\")\n",
    "    print(\"Pres 3 to quit\")\n",
    "    \n",
    "    selection = int(input(\"Enter your choice -> \"))\n",
    "    if selection == 3:\n",
    "        break\n",
    "\n",
    "\n",
    "print()\n",
    "from random import randint\n",
    "\n",
    "numbers = [randint(1, 100) for num in range(10)]\n",
    "# use enumerate to grab indexes and values of numbers\n",
    "for i, num in enumerate(numbers):\n",
    "    print(f\"Index: {i}\\t Number: {num}\")\n",
    "\n",
    "if 25 in numbers:\n",
    "    print(f\"Magic number 25 found at index: {numbers.index(25)}\")\n",
    "\n",
    "\n",
    "print()\n",
    "\n",
    "# zip - generator used to take values from two sep iterables and \n",
    "# turn it into a list of tuples (values from each)\n",
    "source_extension = ['.py', '.js', '.rb', '.java', '.c', '.cpp']\n",
    "program_language = ['python', 'javascript', 'ruby', 'java', 'c', 'cpp']\n",
    "\n",
    "# create tuple with language and extension\n",
    "tupled_list = list(zip(program_language, source_extension))\n",
    "print(tupled_list)\n",
    "\n"
   ]
  },
  {
   "cell_type": "code",
   "execution_count": null,
   "metadata": {},
   "outputs": [],
   "source": []
  }
 ],
 "metadata": {
  "kernelspec": {
   "display_name": "Python 3.7.6 64-bit",
   "language": "python",
   "name": "python37664bit22327cd5a8b04f0ea51a11b8f5e203bf"
  },
  "language_info": {
   "codemirror_mode": {
    "name": "ipython",
    "version": 3
   },
   "file_extension": ".py",
   "mimetype": "text/x-python",
   "name": "python",
   "nbconvert_exporter": "python",
   "pygments_lexer": "ipython3",
   "version": "3.7.6"
  }
 },
 "nbformat": 4,
 "nbformat_minor": 4
}
