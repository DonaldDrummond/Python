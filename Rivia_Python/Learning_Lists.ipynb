{
 "cells": [
  {
   "cell_type": "code",
   "execution_count": null,
   "metadata": {},
   "outputs": [],
   "source": [
    "# Define a list that contains four colors\n",
    "color_list = [\"blue\", \"orange\", \"turqoise\", \"red\"]\n",
    "\n",
    "# Define a list that contains numbers (int) from 0 - 100\n",
    "# Bonus: use the range() for this\n",
    "number_list = range(0, 101)\n",
    "\n",
    "# Loop over each color in your list of colours and print the those colors with 3 or more vowels\n",
    "# NOTE: you will need a list of vowels and use the keyword 'in' to check\n",
    "vowels = [\"a\", \"e\", \"i\", \"o\", \"u\"]\n",
    "\n",
    "for color in color_list:\n",
    "    vowel_count = 0\n",
    "    for letter in color:\n",
    "        if letter in vowels:\n",
    "            vowel_count += 1\n",
    "    if vowel_count >= 3:\n",
    "        print(color)\n",
    "\n",
    "# Loop over your list of numbers and print only the odd numbers\n",
    "for num in number_list:\n",
    "    if num % 2 != 0:\n",
    "        print(num)"
   ]
  },
  {
   "cell_type": "code",
   "execution_count": null,
   "metadata": {},
   "outputs": [],
   "source": [
    "# Create a list of your choice and use at least 4 built-in functions\n",
    "# make sure you comment your code\n",
    "names = [\"charles\", \"xaviera\", \"chloe\", \"colby\", \"cruz\"]\n",
    "\n",
    "# using append we will add a new name names\n",
    "names.append(\"carson\")\n",
    "\n",
    "# let's remove charles from our list of names\n",
    "names.pop(0)\n",
    "\n",
    "# remove a name from names list\n",
    "names.remove(\"chloe\")\n",
    "\n",
    "# insert an item into the names list close to the middle\n",
    "names.insert(len(names) // 2, 'bill')\n",
    "\n",
    "# extend our names list with our silly_names list\n",
    "silly_names = ['xopa', 'bugger', 'gumby', 'fitoniche']\n",
    "names.extend(silly_names)\n",
    "\n",
    "# display the names in the name list in reverse order in upper case\n",
    "for i in range(len(names) - 1, -1, -1):\n",
    "    print(names[i].upper(), end=' ')\n",
    "print()\n",
    "\n",
    "# Another example of reverse order\n",
    "names_copy = names[::]\n",
    "names_copy.reverse()\n",
    "print(f\"names_copy: {' '.join(names_copy).upper()}\")\n",
    "\n",
    "# display all names in uppercase\n",
    "print(' '.join(names).upper())\n",
    "\n",
    "# display the last portion of our names list\n",
    "print(' '.join(names[(len(names) - 1) // 2 + 1:]).upper())\n",
    "\n",
    "# Examples of things you can do with lists\n",
    "#'''\n",
    "#    1. sort - sort(), sorted()\n",
    "#    2. find - len(), min(), max(), in, indexing, slicing, count()\n",
    "#    3. insert/remove - append(), insert(), extend(), remove(), pop()\n",
    "#    4. sub-lists - slicing, in-place, copying\n",
    "#    5. iteration - for loops, while loops\n",
    "#'''\n"
   ]
  },
  {
   "cell_type": "code",
   "execution_count": null,
   "metadata": {},
   "outputs": [],
   "source": [
    "# Create a list of numbers called 'numbers'\n",
    "numbers = [2, 4, 1, 3, 5, 6, 9, 8]\n",
    "\n",
    "# Add 6 odd numbers to 'numbers' \n",
    "numbers += [99, 1, 7, 43, 45, 78]\n",
    "\n",
    "# Print the id() of your list to screen\n",
    "print(f\"ID of numbers: {id(numbers)}\")\n",
    "\n",
    "# Sort your list using sorted() and store it in a list called 'sorted_list'\n",
    "sorted_list = sorted(numbers)\n",
    "\n",
    "# Print the id() of your sorted list to the screen\n",
    "print(f\"ID of sorted_list: {id(sorted_list)}\")\n",
    "\n",
    "# Sort your orginal list with sort()\n",
    "numbers.sort()\n",
    "\n",
    "# Print the id() of your original list, are they the same? Why?\n",
    "print(f\"ID of numbers: {id(numbers)}\")\n",
    ""
   ]
  },
  {
   "cell_type": "code",
   "execution_count": null,
   "metadata": {},
   "outputs": [],
   "source": [
    "# Get a list of methods available to the list data type\n",
    "dir(list)"
   ]
  },
  {
   "cell_type": "code",
   "execution_count": null,
   "metadata": {},
   "outputs": [],
   "source": [
    "# Create a list of school subjects\n",
    "school_subjects = [\"physics\", \"english\", \"history\", \"programming\"]\n",
    "\n",
    "# Display the location where the 'english' subject is found\n",
    "print(f\"The location for 'english' is: {school_subjects.index('english')}\")\n",
    "\n",
    "# Display True of False if the 'science' subject is included in school_subjects\n",
    "print(f\"Is science in the list of school subjects: {'science' in school_subjects}\")"
   ]
  },
  {
   "cell_type": "code",
   "execution_count": null,
   "metadata": {},
   "outputs": [],
   "source": [
    "# Create a list of student names\n",
    "student_names = ['Bill', 'Bob', 'Jane', 'Jill', 'Bob', 'Ben', 'Smith', 'Jane']\n",
    "\n",
    "# Display the number of students that have the name Jane\n",
    "print(f\"{student_names.count('Jane')} students have the name Jane.\")"
   ]
  },
  {
   "cell_type": "code",
   "execution_count": null,
   "metadata": {},
   "outputs": [],
   "source": []
  }
 ],
 "metadata": {
  "kernelspec": {
   "display_name": "Python 3",
   "language": "python",
   "name": "python3"
  },
  "language_info": {
   "codemirror_mode": {
    "name": "ipython",
    "version": 3
   },
   "file_extension": ".py",
   "mimetype": "text/x-python",
   "name": "python",
   "nbconvert_exporter": "python",
   "pygments_lexer": "ipython3",
   "version": "3.7.6-final"
  }
 },
 "nbformat": 4,
 "nbformat_minor": 2
}