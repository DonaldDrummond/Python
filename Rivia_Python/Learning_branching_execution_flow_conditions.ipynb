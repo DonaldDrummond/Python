{
 "cells": [
  {
   "cell_type": "code",
   "execution_count": null,
   "metadata": {},
   "outputs": [],
   "source": [
    "# Python performs a top down execution flow\n",
    "\n",
    "# branching if/elif/else\n",
    "age = 36\n",
    "\n",
    "if age < 18:\n",
    "    print(\"You are are young one.\")\n",
    "elif age < 35:\n",
    "    print(\"You are in your prime.\")\n",
    "else:\n",
    "    print(\"You are a wise one!\")\n",
    "    \n",
    "# Booleans and Conditions\n",
    "# >    - greater than\n",
    "# >=   - greater than or equal to\n",
    "# <    - less than\n",
    "# <=   - less than or equal to\n",
    "# ==   - equal to\n",
    "# !=   - not equal to\n",
    "\n",
    "print()\n",
    "banner = \"Welcome to the Math Machine!\"\n",
    "print(banner)\n",
    "print(\"*\"*len(banner))\n",
    "\n",
    "choice = input(\"Choose 1 to multiply, 2 to divide: \")\n",
    "if choice == \"1\" or choice == \"2\":\n",
    "    num1 = int(input(\"Enter first number: \"))\n",
    "    num2 = int(input(\"Enter second number: \"))\n",
    "    \n",
    "    if choice == \"1\":\n",
    "        print(f\"{num1} multipled by {num2} is: {num1*num2}\")\n",
    "    else:\n",
    "        print(f\"{num1} divided by {num2} is: {num1/num2}\")\n",
    "else:\n",
    "    print(\"ERROR: ivalid selection.\")\n",
    "    \n",
    "print()\n",
    "print()\n",
    "\n",
    "course = 'python'\n",
    "a = 'you are enrolled'\n",
    "b = 'you are not enrolled'\n",
    "\n",
    "print(a) if course == 'python' else print(b) # good O'l one liner"
   ]
  },
  {
   "cell_type": "code",
   "execution_count": null,
   "metadata": {},
   "outputs": [],
   "source": []
  }
 ],
 "metadata": {
  "kernelspec": {
   "display_name": "Python 3.7.6 64-bit",
   "language": "python",
   "name": "python37664bit22327cd5a8b04f0ea51a11b8f5e203bf"
  },
  "language_info": {
   "codemirror_mode": {
    "name": "ipython",
    "version": 3
   },
   "file_extension": ".py",
   "mimetype": "text/x-python",
   "name": "python",
   "nbconvert_exporter": "python",
   "pygments_lexer": "ipython3",
   "version": "3.7.6"
  }
 },
 "nbformat": 4,
 "nbformat_minor": 4
}