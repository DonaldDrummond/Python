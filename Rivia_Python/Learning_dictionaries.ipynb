{
 "cells": [
  {
   "cell_type": "code",
   "execution_count": null,
   "metadata": {},
   "outputs": [],
   "source": [
    "# using the dictionary artist, set a variable called full_name to the value\n",
    "# of the artist's first name and last name. Be sure to add a space between\n",
    "# the first and last name.\n",
    "artist = {\n",
    "    \"first\": \"Neil\",\n",
    "    \"last\": \"Young\",\n",
    "}\n",
    "\n",
    "full_name = f\"{artist.get('first')} {artist.get('last')}\"\n",
    "print(full_name)"
   ]
  },
  {
   "cell_type": "code",
   "execution_count": null,
   "metadata": {},
   "outputs": [],
   "source": [
    "# Create a simple dictionary\n",
    "contacts = {\n",
    "    'name': 'Bob',\n",
    "    'age': 34,\n",
    "    'phone': '123.456.7890'\n",
    "}\n",
    "\n",
    "# get the phone number for contact Bob\n",
    "contacts.get('phone')\n"
   ]
  },
  {
   "cell_type": "code",
   "execution_count": null,
   "metadata": {},
   "outputs": [],
   "source": [
    "# Create a simple dictionary\n",
    "contacts = {\n",
    "    'name': 'Bob',\n",
    "    'age': 34,\n",
    "    'phone': '123.456.7890'\n",
    "}\n",
    "\n",
    "# using the .values() method which generates an iterable, let's \n",
    "# iterate through the values and print them to screen.\n",
    "for value in contacts.values():\n",
    "    print(value)\n",
    "    \n",
    "# empty line\n",
    "print()\n",
    "\n",
    "# the same as above using list comprehension\n",
    "[print(value) for value in contacts.values()]\n"
   ]
  },
  {
   "cell_type": "code",
   "execution_count": null,
   "metadata": {},
   "outputs": [],
   "source": [
    "# Create a simple dictionary\n",
    "contacts = {\n",
    "    'name': 'Bob',\n",
    "    'age': 34,\n",
    "    'phone': '123.456.7890'\n",
    "}\n",
    "\n",
    "# using the .keys() method which generates an iterable, let's \n",
    "# iterate through the keys and print them to screen.\n",
    "for key in contacts.keys():\n",
    "    print(key)\n",
    "    \n",
    "# empty line\n",
    "print()\n",
    "\n",
    "# the same as above using list comprehension\n",
    "[print(key) for key in contacts.keys()]\n"
   ]
  },
  {
   "cell_type": "code",
   "execution_count": null,
   "metadata": {},
   "outputs": [],
   "source": [
    "# Create a simple dictionary\n",
    "contacts = {\n",
    "    'name': 'Bob',\n",
    "    'age': 34,\n",
    "    'phone': '123.456.7890'\n",
    "}\n",
    "\n",
    "# using the .items() method which generates an iterable, let's \n",
    "# iterate through the keys,values and print them to screen.\n",
    "for key, value in contacts.items():\n",
    "    print(key, value)\n",
    "    \n",
    "# empty line\n",
    "print()\n",
    "\n",
    "# the same as above using list comprehension\n",
    "[print(key, value) for key, value in contacts.items()]\n"
   ]
  },
  {
   "cell_type": "code",
   "execution_count": null,
   "metadata": {},
   "outputs": [],
   "source": [
    "# Create a donations dictionary\n",
    "donations = dict(sam=25.0, lena=88.99, chuck=13.0, linus=99.5, stan=150.0, lisa=50.25, harrison=10.0)\n",
    "\n",
    "# Use a loop to add together all the donations and store the resulting number in a variable called total_donations\n",
    "total_donations = sum(donations.values())\n",
    "\n",
    "# display results\n",
    "print(total_donations)"
   ]
  },
  {
   "cell_type": "code",
   "execution_count": null,
   "metadata": {},
   "outputs": [],
   "source": [
    "# Create a donations dictionary\n",
    "donations = dict(sam=25.0, lena=88.99, chuck=13.0, linus=99.5, stan=150.0, lisa=50.25, harrison=10.0)\n",
    "\n",
    "# to clear the contents of a dictionary\n",
    "donations.clear()\n",
    "print(donations)"
   ]
  },
  {
   "cell_type": "code",
   "execution_count": null,
   "metadata": {},
   "outputs": [],
   "source": [
    "# Create a donations dictionary\n",
    "donations = dict(sam=25.0, lena=88.99, chuck=13.0, linus=99.5, stan=150.0, lisa=50.25, harrison=10.0)\n",
    "\n",
    "# make a copy of the dictionary donations\n",
    "copy_of_donations = donations.copy()\n",
    "print(copy_of_donations)\n",
    "\n",
    "# check to see if they reference the same object (place in memory)\n",
    "print(copy_of_donations is donations)\n",
    "\n",
    "# check to see if they have the same values\n",
    "print(copy_of_donations == donations)"
   ]
  },
  {
   "cell_type": "code",
   "execution_count": null,
   "metadata": {},
   "outputs": [],
   "source": [
    "# create a dictionary with defined keys set to some default value\n",
    "new_contact = {}.fromkeys(['first_name', 'last_name', 'phone', 'email'], 'unknown')\n",
    "print(new_contact)\n",
    "\n",
    "print()\n",
    "\n",
    "# another way\n",
    "new_dict.fromkeys(['first_name', 'last_name', 'phone', 'email'], 'unknown')"
   ]
  },
  {
   "cell_type": "code",
   "execution_count": null,
   "metadata": {},
   "outputs": [],
   "source": [
    "# This code picks a random food item:\n",
    "from random import choice\n",
    "\n",
    "food = choice([\"cheese pizza\", \"quiche\",\"morning bun\",\"gummy bear\",\"tea cake\"])\n",
    "\n",
    "# bakery_stock dictionary\n",
    "bakery_stock = {\n",
    "    \"almond croissant\" : 12,\n",
    "    \"toffee cookie\": 3,\n",
    "    \"morning bun\": 1,\n",
    "    \"chocolate chunk cookie\": 9,\n",
    "    \"tea cake\": 25\n",
    "}\n",
    "\n",
    "# print out a string that states how many items are left if the random food is in bakery_stock\n",
    "# if the random food choice is not in bakery_stock print \"We don't make that\"\n",
    "\n",
    "if food in bakery_stock.values():\n",
    "    print(f\"{bakery_stock.get(food)} left\")\n",
    "else:\n",
    "    print(\"We don't make that\")\n"
   ]
  },
  {
   "cell_type": "code",
   "execution_count": null,
   "metadata": {},
   "outputs": [],
   "source": [
    "# game_properties\n",
    "game_properties = [\"current_score\", \"high_score\", \"number_of_lives\", \"items_in_inventory\", \"power_ups\", \"ammo\", \"enemies_on_screen\", \"enemy_kills\", \"enemy_kill_streaks\", \"minutes_played\", \"notications\", \"achievements\"] \n",
    "\n",
    "# Use the game_properties list and dict.fromkeys() to generate a dictionary with all values set to 0.  Save the result to a variabled called initial_game_state\n",
    "initial_game_state = {}.fromkeys(game_properties, 0)\n",
    "\n",
    "print(initial_game_state)"
   ]
  },
  {
   "cell_type": "code",
   "execution_count": null,
   "metadata": {},
   "outputs": [],
   "source": [
    "# the pop() will take a key as an argument and remove the key/value pair returning the value of the key passed\n",
    "donations = dict(sam=25.0, lena=88.99, chuck=13.0, linus=99.5, stan=150.0, lisa=50.25, harrison=10.0)\n",
    "\n",
    "print(donations.pop('chuck'))\n",
    "print(donations)\n"
   ]
  },
  {
   "cell_type": "code",
   "execution_count": null,
   "metadata": {},
   "outputs": [],
   "source": [
    "# the pop() will take a key as an argument and remove the key/value pair returning the value of the key passed\n",
    "donations = dict(sam=25.0, lena=88.99, chuck=13.0, linus=99.5, stan=150.0, lisa=50.25, harrison=10.0)\n",
    "key = 'bigdaddy'\n",
    "\n",
    "try:\n",
    "    print(donations.pop(key))\n",
    "except KeyError:\n",
    "    print(\"The key {} does not exist.\".format(key))"
   ]
  },
  {
   "cell_type": "code",
   "execution_count": null,
   "metadata": {},
   "outputs": [],
   "source": [
    "# the popitem() will remove and return some key, value pair as a 2-tuple, raise KeyError if dict is empty\n",
    "donations = dict(lisa=50.25, harrison=10.0)\n",
    "\n",
    "# return random key, value pair and remove from dict\n",
    "item1 = donations.popitem()\n",
    "\n",
    "# return random key, value pair and remove from dict\n",
    "item2 = donations.popitem()\n",
    "\n",
    "print(f\"Dict Length: {len(donations)}\")\n",
    "\n",
    "# produce KeyError\n",
    "donations.popitem()"
   ]
  },
  {
   "cell_type": "code",
   "execution_count": null,
   "metadata": {},
   "outputs": [],
   "source": [
    "# update keys, values in a dict with another set of keys and values using dict.update()\n",
    "donations = dict(sam=25.0, lena=88.99, chuck=13.0, linus=99.5, stan=150.0, lisa=50.25, harrison=10.0)\n",
    "some_dict = {}\n",
    "\n",
    "print(donations == some_dict)\n",
    "\n",
    "some_dict.update(donations)\n",
    "\n",
    "print(donations == some_dict)"
   ]
  },
  {
   "cell_type": "code",
   "execution_count": null,
   "metadata": {},
   "outputs": [],
   "source": [
    "inventory = {'croissant': 19, 'bagel': 4, 'muffin': 8, 'cake': 1}\n",
    "\n",
    "# Make a copy of inventory and save it to a variable called stock_list USE A DICTIONARY METHOD\n",
    "stock_list = inventory.copy()\n",
    "\n",
    "\n",
    "# add the value 18 to stock_list under the key \"cookie\"\n",
    "stock_list.setdefault('cookie', 18)\n",
    "\n",
    "\n",
    "# remove 'cake' from stock_list USE A DICTIONARY METHOD\n",
    "stock_list.pop('cake')"
   ]
  },
  {
   "cell_type": "code",
   "execution_count": null,
   "metadata": {},
   "outputs": [],
   "source": [
    "# Create a Music Playlist\n",
    "\n",
    "playlist = {\n",
    "    'name': 'Plena',\n",
    "    'author': 'Charles A. Hessifer',\n",
    "    'number_songs': 5,\n",
    "    'playtime': 2,\n",
    "    'songs': [\n",
    "        {'title': 'Yellow Submarine', 'artist': 'Beetles', 'genre': '70s', 'date_added': '11/02/18', 'duration': 4.02},\n",
    "        {'title': 'Take This Job and Shove It', 'artist': 'Hank Williams Jr.', 'genre': 'Country', 'date_added': '09/02/18', 'duration': 3.02}\n",
    "    ]\n",
    "}\n",
    "playlist_length = 0\n",
    "\n",
    "print(\"First Song: {}\".format(playlist.get('songs')[0].get('title')))\n",
    "for song in playlist.get('songs'):\n",
    "    playlist_length += song.get('duration')\n",
    "print(\"Playlist: Plena\\nDuration: {:.2f}\".format(playlist_length))\n"
   ]
  },
  {
   "cell_type": "code",
   "execution_count": null,
   "metadata": {},
   "outputs": [],
   "source": []
  }
 ],
 "metadata": {
  "kernelspec": {
   "display_name": "Python 3",
   "language": "python",
   "name": "python3"
  },
  "language_info": {
   "codemirror_mode": {
    "name": "ipython",
    "version": 3
   },
   "file_extension": ".py",
   "mimetype": "text/x-python",
   "name": "python",
   "nbconvert_exporter": "python",
   "pygments_lexer": "ipython3",
   "version": "3.7.0"
  }
 },
 "nbformat": 4,
 "nbformat_minor": 1
}