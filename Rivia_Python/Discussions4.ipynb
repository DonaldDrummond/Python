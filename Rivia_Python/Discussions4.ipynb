{
 "cells": [
  {
   "cell_type": "code",
   "execution_count": 4,
   "metadata": {},
   "outputs": [
    {
     "name": "stdout",
     "output_type": "stream",
     "text": [
      "0 This\n",
      "1 is\n",
      "2 another\n",
      "3 test\n"
     ]
    }
   ],
   "source": [
    "test_list2 = ['This', 'is', 'another', 'test']\n",
    "for i, value in enumerate(test_list2):\n",
    "    print(i, value)"
   ]
  },
  {
   "cell_type": "code",
   "execution_count": 8,
   "metadata": {},
   "outputs": [
    {
     "name": "stdout",
     "output_type": "stream",
     "text": [
      "RGB(012)\n",
      "RGB(232)\n",
      "RGB(111)\n"
     ]
    }
   ],
   "source": [
    "colors = ['yellow', 'blue', 'gree']\n",
    "rgb_values = ['012', '232', '111']\n",
    "\n",
    "rgb_colors = list(zip(colors, rgb_values))\n",
    "\n",
    "for i in rgb_colors:\n",
    "    print(f\"RGB({i[1]})\")\n"
   ]
  },
  {
   "cell_type": "code",
   "execution_count": 18,
   "metadata": {},
   "outputs": [
    {
     "name": "stdout",
     "output_type": "stream",
     "text": [
      "[('Miles', 'Corey'), ('Monica', 'Jasmine')]\n"
     ]
    }
   ],
   "source": [
    "a = ('Miles', 'Monica')\n",
    "b = ('Corey', 'Jasmine')\n",
    "x = list(zip(a, b))\n",
    "print(x)\n",
    "# print(dir(x))\n",
    "# print(x.__sizeof__())\n",
    "# print(x.__str__())"
   ]
  },
  {
   "cell_type": "code",
   "execution_count": 20,
   "metadata": {},
   "outputs": [
    {
     "name": "stdout",
     "output_type": "stream",
     "text": [
      "/Users/hessifc/py37dev/lib/python3.7/site-packages/ipykernel_launcher.py\n",
      "-f\n",
      "/Users/hessifc/Library/Jupyter/runtime/kernel-2d6c4719-05c6-40fc-a4c6-fa67c4fc296c.json\n"
     ]
    }
   ],
   "source": [
    "import sys\n",
    "\n",
    "# print(len(sys.argv))\n",
    "for i in sys.argv:\n",
    "    print(i)"
   ]
  },
  {
   "cell_type": "code",
   "execution_count": null,
   "metadata": {},
   "outputs": [],
   "source": []
  }
 ],
 "metadata": {
  "kernelspec": {
   "display_name": "Python 3.7.6 64-bit ('py37dev': venv)",
   "language": "python",
   "name": "python37664bitpy37devvenv4b85455dc2f54a88862860e57323bd1a"
  },
  "language_info": {
   "codemirror_mode": {
    "name": "ipython",
    "version": 3
   },
   "file_extension": ".py",
   "mimetype": "text/x-python",
   "name": "python",
   "nbconvert_exporter": "python",
   "pygments_lexer": "ipython3",
   "version": "3.7.6"
  }
 },
 "nbformat": 4,
 "nbformat_minor": 4
}
