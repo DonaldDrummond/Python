{
 "cells": [
  {
   "cell_type": "code",
   "execution_count": null,
   "metadata": {},
   "outputs": [],
   "source": [
    "# write your function here\n",
    "def population_density(population, land_area):\n",
    "    return population / land_area\n",
    "\n",
    "# test cases for your function\n",
    "test1 = population_density(10, 1)\n",
    "expected_result1 = 10\n",
    "print(\"expected result: {}, actual result: {}\".format(expected_result1, test1))\n",
    "\n",
    "test2 = population_density(864816, 121.4)\n",
    "expected_result2 = 7123.6902801\n",
    "print(\"expected result: {}, actual result: {}\".format(expected_result2, test2))"
   ]
  },
  {
   "cell_type": "code",
   "execution_count": null,
   "metadata": {},
   "outputs": [],
   "source": [
    "# write your function here\n",
    "def readable_timedelta(days):\n",
    "    result = \"{} week(s) and {} day(s).\".format(days // 7, days % 7)\n",
    "    return result\n",
    "\n",
    "# test your function\n",
    "print(readable_timedelta(10))"
   ]
  },
  {
   "cell_type": "code",
   "execution_count": null,
   "metadata": {},
   "outputs": [],
   "source": [
    "home_run_count = 0\n",
    "\n",
    "def catch_home_runs():\n",
    "    home_run_count += 3\n",
    "\n",
    "catch_home_runs()\n",
    "# What is value of home_run_count"
   ]
  },
  {
   "cell_type": "code",
   "execution_count": null,
   "metadata": {},
   "outputs": [],
   "source": [
    "home_run_count = 0\n",
    "\n",
    "def catch_home_runs():\n",
    "    try:\n",
    "        home_run_count += 3\n",
    "    except UnboundLocalError as e:\n",
    "        print(\"ERROR: In Python you cannot update a variable outside the scope of the function.\")\n",
    "        print(\"\\n{}\".format(e))\n",
    "\n",
    "catch_home_runs()\n",
    "# What is value of home_run_count"
   ]
  },
  {
   "cell_type": "code",
   "execution_count": null,
   "metadata": {},
   "outputs": [],
   "source": []
  }
 ],
 "metadata": {
  "kernelspec": {
   "display_name": "Python 3",
   "language": "python",
   "name": "python3"
  },
  "language_info": {
   "codemirror_mode": {
    "name": "ipython",
    "version": 3
   },
   "file_extension": ".py",
   "mimetype": "text/x-python",
   "name": "python",
   "nbconvert_exporter": "python",
   "pygments_lexer": "ipython3",
   "version": "3.8.2"
  }
 },
 "nbformat": 4,
 "nbformat_minor": 4
}
