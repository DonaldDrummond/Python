{
 "cells": [
  {
   "cell_type": "code",
   "execution_count": null,
   "metadata": {},
   "outputs": [],
   "source": [
    "\"\"\"An illustration of a simple class.\"\"\"\n",
    "\n",
    "class Person:\n",
    "    def __init__(self, fname, mname, lname, age):\n",
    "        self.fname: str = fname\n",
    "        self.mname: str = mname\n",
    "        self.lname: str = lname\n",
    "        self.age: int = age\n",
    "    \n",
    "    def get_full_name(self) -> str:\n",
    "        full_name: str = f\"{self.fname} {self.mname} {self.lname}\"\n",
    "        return full_name.title()\n",
    "    \n",
    "    def greet_person(self):\n",
    "        \"\"\"Greets a person with Hello followed by their first name.\"\"\"\n",
    "        msg: str = f\"Hello, {self.fname.title()}\"\n",
    "        print(msg)\n",
    "\n",
    "\n",
    "if __name__ == '__main__':\n",
    "    first_name: str = \"charles\"\n",
    "    middle_name: str = \"anthony\"\n",
    "    last_name: str = \"hessifer\"\n",
    "    age = 27\n",
    "\n",
    "    person = Person(first_name, middle_name, last_name, age)\n",
    "    print(f\"Person: {person.get_full_name()}\")\n",
    "    print(f\"Person's Age: {person.age}\")\n",
    "    person.greet_person()\n"
   ]
  },
  {
   "cell_type": "code",
   "execution_count": null,
   "metadata": {},
   "outputs": [],
   "source": []
  }
 ],
 "metadata": {
  "kernelspec": {
   "display_name": "Python 3.7.6 64-bit ('py37dev': venv)",
   "language": "python",
   "name": "python37664bitpy37devvenv4b85455dc2f54a88862860e57323bd1a"
  },
  "language_info": {
   "codemirror_mode": {
    "name": "ipython",
    "version": 3
   },
   "file_extension": ".py",
   "mimetype": "text/x-python",
   "name": "python",
   "nbconvert_exporter": "python",
   "pygments_lexer": "ipython3",
   "version": "3.7.6"
  }
 },
 "nbformat": 4,
 "nbformat_minor": 4
}
