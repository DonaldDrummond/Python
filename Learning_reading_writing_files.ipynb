{
 "nbformat": 4,
 "nbformat_minor": 2,
 "metadata": {
  "language_info": {
   "name": "python",
   "codemirror_mode": {
    "name": "ipython",
    "version": 3
   },
   "version": "3.7.6-final"
  },
  "orig_nbformat": 2,
  "file_extension": ".py",
  "mimetype": "text/x-python",
  "name": "python",
  "npconvert_exporter": "python",
  "pygments_lexer": "ipython3",
  "version": 3,
  "kernelspec": {
   "name": "python37664bit22327cd5a8b04f0ea51a11b8f5e203bf",
   "display_name": "Python 3.7.6 64-bit"
  }
 },
 "cells": [
  {
   "cell_type": "code",
   "execution_count": null,
   "metadata": {},
   "outputs": [],
   "source": [
    "# basic non recommend way to open a file\n",
    "file_name = \"/etc/passwd\"\n",
    "f = open(file_name)\n",
    "# f_contents = f.read()\n",
    "for line in f:\n",
    "    print(line.strip())\n",
    "\n",
    "# important to close file when not using context manager\n",
    "f.close()\n",
    "\n",
    "\n",
    "# let's use a context manager to handle common file operations\n",
    "with open(file_name) as fh:\n",
    "    for line in fh:\n",
    "        print(line.strip())\n",
    "\n",
    "# writing to a file using a context manager\n",
    "target_file = \"golf_is_fun.txt\"\n",
    "\n",
    "with open(target_file, 'w') as fh_w:\n",
    "    fh_w.write(\"Hook, Slice, and Sinker...\\n\")\n",
    "\n",
    "# appending data to an existing file using a context manager\n",
    "with open(target_file, 'a') as fh_a:\n",
    "    fh_a.write(\"A bad day of golf is better than a good day at work!\\n\")\n",
    "\n",
    "# ^^^Why does the target_file only contain two lines?\n",
    "\n",
    "# append data to an existing file or create it if it does not exist\n",
    "# using a context manager\n",
    "contacts_file = 'contacts.txt'\n",
    "\n",
    "with open(contacts_file, 'a+') as fh_a:\n",
    "    fh_a.write(\"Get Wrecked!!!\\n\")\n",
    "\n",
    "\n",
    "\n",
    "\n",
    "\n"
   ]
  },
  {
   "cell_type": "code",
   "execution_count": null,
   "metadata": {},
   "outputs": [],
   "source": []
  }
 ]
}