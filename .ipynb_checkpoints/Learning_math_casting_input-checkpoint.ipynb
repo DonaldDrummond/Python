{
 "cells": [
  {
   "cell_type": "code",
   "execution_count": 11,
   "metadata": {},
   "outputs": [
    {
     "name": "stdout",
     "output_type": "stream",
     "text": [
      "696\n",
      "Please enter a number: 6\n",
      "<class 'str'>\n",
      "<class 'int'>\n",
      "\n",
      "*****\n"
     ]
    }
   ],
   "source": [
    "# numbers - integers, floats\n",
    "# math - follows real world concepts 3 + 3\n",
    "# casting - convert the current data type to \n",
    "#           another int(\"3\") <-- converts string \"3\" to integer 3\n",
    "4 + 4\n",
    "3.14 + 3\n",
    "64 / 8\n",
    "72.34 // 8\n",
    "abs(-10)\n",
    "44 % 2\n",
    "5 ** 2 # squared\n",
    "5 ** 3 # 5 to the power of 3\n",
    "\n",
    "\n",
    "import math\n",
    "math.sqrt(84)\n",
    "math.pow(5, 3)\n",
    "math.log2(10000000)\n",
    "\n",
    "import random\n",
    "print(random.randint(0, 1000))\n",
    "\n",
    "number = input('Please enter a number: ')\n",
    "print(type(number))\n",
    "number = int(number) # type cast string to int\n",
    "print(type(number))\n",
    "\n",
    "print()\n",
    "# print a character x number of times\n",
    "print(\"*\"*5)\n",
    "\n",
    "\n"
   ]
  },
  {
   "cell_type": "code",
   "execution_count": null,
   "metadata": {},
   "outputs": [],
   "source": []
  }
 ],
 "metadata": {
  "kernelspec": {
   "display_name": "Python 3.7.6 64-bit",
   "language": "python",
   "name": "python37664bit22327cd5a8b04f0ea51a11b8f5e203bf"
  },
  "language_info": {
   "codemirror_mode": {
    "name": "ipython",
    "version": 3
   },
   "file_extension": ".py",
   "mimetype": "text/x-python",
   "name": "python",
   "nbconvert_exporter": "python",
   "pygments_lexer": "ipython3",
   "version": "3.7.6"
  }
 },
 "nbformat": 4,
 "nbformat_minor": 4
}
