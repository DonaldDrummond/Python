{
 "cells": [
  {
   "cell_type": "code",
   "execution_count": 2,
   "metadata": {},
   "outputs": [
    {
     "name": "stdout",
     "output_type": "stream",
     "text": [
      "orange\n",
      "turqoise\n",
      "1\n",
      "3\n",
      "5\n",
      "7\n",
      "9\n",
      "11\n",
      "13\n",
      "15\n",
      "17\n",
      "19\n",
      "21\n",
      "23\n",
      "25\n",
      "27\n",
      "29\n",
      "31\n",
      "33\n",
      "35\n",
      "37\n",
      "39\n",
      "41\n",
      "43\n",
      "45\n",
      "47\n",
      "49\n",
      "51\n",
      "53\n",
      "55\n",
      "57\n",
      "59\n",
      "61\n",
      "63\n",
      "65\n",
      "67\n",
      "69\n",
      "71\n",
      "73\n",
      "75\n",
      "77\n",
      "79\n",
      "81\n",
      "83\n",
      "85\n",
      "87\n",
      "89\n",
      "91\n",
      "93\n",
      "95\n",
      "97\n",
      "99\n"
     ]
    }
   ],
   "source": [
    "# Define a list that contains four colours\n",
    "color_list = [\"blue\", \"orange\", \"turqoise\", \"red\"]\n",
    "\n",
    "# Define a list that contains numbers (int) from 0 - 100\n",
    "# Bonus: use the range() for this\n",
    "number_list = range(0, 101)\n",
    "\n",
    "# Loop over each color in your list of colours and print the those colors with 3 or more vowels\n",
    "# NOTE: you will need a list of vowels and use the keyword 'in' to check\n",
    "vowels = [\"a\", \"e\", \"i\", \"o\", \"u\"]\n",
    "\n",
    "for color in color_list:\n",
    "    vowel_count = 0\n",
    "    for letter in color:\n",
    "        if letter in vowels:\n",
    "            vowel_count += 1\n",
    "    if vowel_count >= 3:\n",
    "        print(color)\n",
    "\n",
    "# Loop over your list of numbers and print only the odd numbers\n",
    "for num in number_list:\n",
    "    if num % 2 != 0:\n",
    "        print(num)"
   ]
  },
  {
   "cell_type": "code",
   "execution_count": 3,
   "metadata": {},
   "outputs": [
    {
     "name": "stdout",
     "output_type": "stream",
     "text": [
      "XAVIERA COLBY CRUZ CARSON\n"
     ]
    }
   ],
   "source": [
    "# Create a list of your choice and use at least 4 built-in functions\n",
    "# make sure you comment your code\n",
    "names = [\"charles\", \"xaviera\", \"chloe\", \"colby\", \"cruz\"]\n",
    "\n",
    "# using append we will add a new name names\n",
    "names.append(\"carson\")\n",
    "\n",
    "# let's remove charles from our list of names\n",
    "names.pop(0)\n",
    "\n",
    "# remove a name from names list\n",
    "names.remove(\"chloe\")\n",
    "\n",
    "# display all names in uppercase\n",
    "print(' '.join(names).upper())\n",
    "\n",
    "\n",
    "\n"
   ]
  },
  {
   "cell_type": "code",
   "execution_count": null,
   "metadata": {},
   "outputs": [],
   "source": []
  }
 ],
 "metadata": {
  "kernelspec": {
   "display_name": "Python 3",
   "language": "python",
   "name": "python3"
  },
  "language_info": {
   "codemirror_mode": {
    "name": "ipython",
    "version": 3
   },
   "file_extension": ".py",
   "mimetype": "text/x-python",
   "name": "python",
   "nbconvert_exporter": "python",
   "pygments_lexer": "ipython3",
   "version": "3.7.0"
  }
 },
 "nbformat": 4,
 "nbformat_minor": 2
}
